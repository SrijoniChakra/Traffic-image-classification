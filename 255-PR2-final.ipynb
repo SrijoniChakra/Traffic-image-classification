{
 "cells": [
  {
   "cell_type": "code",
   "execution_count": 44,
   "metadata": {},
   "outputs": [],
   "source": [
    "from sklearn.ensemble import ExtraTreesClassifier\n",
    "import pandas as pd\n",
    "import numpy as np\n",
    "from sklearn.decomposition import PCA, TruncatedSVD\n",
    "import matplotlib.pyplot as plt\n",
    "import seaborn as sns\n",
    "from sklearn.preprocessing import StandardScaler, MinMaxScaler\n",
    "from sklearn.model_selection import train_test_split, KFold, cross_val_score   \n",
    "from sklearn.metrics import classification_report\n",
    "from sklearn.metrics import accuracy_score, confusion_matrix\n",
    "from sklearn.feature_selection import SelectKBest, chi2\n",
    "from sklearn.metrics import mean_squared_error as mse\n",
    "from sklearn.metrics import classification_report as cls_report\n",
    "from sklearn.metrics import f1_score\n",
    "from sklearn.feature_selection import VarianceThreshold\n",
    "from sklearn.neighbors import KNeighborsClassifier     #KNN\n",
    "from sklearn.linear_model import LogisticRegression    #Logistic Regression\n",
    "from sklearn.tree import DecisionTreeClassifier        #Decision Tree\n",
    "from sklearn.ensemble import RandomForestClassifier    #Random Forest\n",
    "from sklearn.neural_network import MLPClassifier       #Neural Network\n",
    "from sklearn.svm import SVC   \n",
    "from xgboost import XGBClassifier\n",
    "from sklearn.multiclass import OneVsRestClassifier\n",
    "from sklearn.model_selection import GridSearchCV\n",
    "from sklearn.ensemble import GradientBoostingClassifier\n",
    "from sklearn.model_selection import StratifiedKFold\n",
    "import sklearn.metrics as metrics\n",
    "from sklearn.pipeline import Pipeline"
   ]
  },
  {
   "cell_type": "code",
   "execution_count": 21,
   "metadata": {},
   "outputs": [],
   "source": [
    "from numpy import loadtxt\n",
    "train = loadtxt('/Users/davislab/Downloads/data/train.dat') \n",
    "test = loadtxt('/Users/davislab/Downloads/data/test.dat')\n",
    "labels = loadtxt('/Users/davislab/Downloads/data/train.labels')"
   ]
  },
  {
   "cell_type": "code",
   "execution_count": 55,
   "metadata": {},
   "outputs": [],
   "source": [
    "from imblearn.over_sampling import SMOTE      #oversampling for removing class imbalance\n",
    "oversample = SMOTE(k_neighbors = 2)\n",
    "X, y = oversample.fit_resample(train, labels)"
   ]
  },
  {
   "cell_type": "code",
   "execution_count": 56,
   "metadata": {},
   "outputs": [],
   "source": [
    "X_train, X_test, y_train, y_test = train_test_split(X,y,test_size=0.2,shuffle=True,random_state=42)"
   ]
  },
  {
   "cell_type": "code",
   "execution_count": 5,
   "metadata": {},
   "outputs": [],
   "source": [
    "# XGB = XGBClassifier()"
   ]
  },
  {
   "cell_type": "code",
   "execution_count": 45,
   "metadata": {},
   "outputs": [],
   "source": [
    "# ext=ExtraTreesClassifier(n_estimators=500,\n",
    "#                                     min_samples_split=4,\n",
    "#                                     #max_depth=15,\n",
    "#                                     random_state=21,\n",
    "#                                     class_weight=\"balanced\")"
   ]
  },
  {
   "cell_type": "code",
   "execution_count": 46,
   "metadata": {},
   "outputs": [],
   "source": [
    "# pipe = Pipeline([('dr', SelectKBest(chi2, k=46)), ('clf', ext)])"
   ]
  },
  {
   "cell_type": "code",
   "execution_count": 62,
   "metadata": {},
   "outputs": [],
   "source": [
    "pipe = Pipeline([('dr', SelectKBest(chi2, k=50)), ('rfc',RandomForestClassifier(random_state=42))])"
   ]
  },
  {
   "cell_type": "code",
   "execution_count": 63,
   "metadata": {},
   "outputs": [
    {
     "data": {
      "text/plain": [
       "Pipeline(steps=[('dr',\n",
       "                 SelectKBest(k=50,\n",
       "                             score_func=<function chi2 at 0x7feed1967160>)),\n",
       "                ('rfc', RandomForestClassifier(random_state=42))])"
      ]
     },
     "execution_count": 63,
     "metadata": {},
     "output_type": "execute_result"
    }
   ],
   "source": [
    "pipe.fit(X_train,y_train)"
   ]
  },
  {
   "cell_type": "code",
   "execution_count": 64,
   "metadata": {},
   "outputs": [],
   "source": [
    "y_pred=pipe.predict(X_test)"
   ]
  },
  {
   "cell_type": "code",
   "execution_count": 65,
   "metadata": {},
   "outputs": [
    {
     "name": "stdout",
     "output_type": "stream",
     "text": [
      "              precision    recall  f1-score   support\n",
      "\n",
      "         1.0       0.83      0.80      0.81      2098\n",
      "         2.0       0.80      0.78      0.79      2058\n",
      "         3.0       0.95      0.97      0.96      2126\n",
      "         4.0       1.00      1.00      1.00      2138\n",
      "         5.0       1.00      1.00      1.00      2092\n",
      "         6.0       1.00      1.00      1.00      2063\n",
      "         7.0       1.00      1.00      1.00      2062\n",
      "         8.0       0.97      0.99      0.98      2109\n",
      "        10.0       1.00      1.00      1.00      1974\n",
      "        11.0       1.00      1.00      1.00      2030\n",
      "\n",
      "    accuracy                           0.95     20750\n",
      "   macro avg       0.95      0.95      0.95     20750\n",
      "weighted avg       0.95      0.95      0.95     20750\n",
      "\n"
     ]
    }
   ],
   "source": [
    "print(classification_report(y_test, y_pred))"
   ]
  },
  {
   "cell_type": "code",
   "execution_count": 66,
   "metadata": {},
   "outputs": [
    {
     "data": {
      "text/plain": [
       "Pipeline(steps=[('dr',\n",
       "                 SelectKBest(k=50,\n",
       "                             score_func=<function chi2 at 0x7feed1967160>)),\n",
       "                ('rfc', RandomForestClassifier(random_state=42))])"
      ]
     },
     "execution_count": 66,
     "metadata": {},
     "output_type": "execute_result"
    }
   ],
   "source": [
    "X_train = np.vstack((X_train,X_test))\n",
    "y_train = np.append(y_train,y_test)\n",
    "pipe.fit(X_train, y_train)"
   ]
  },
  {
   "cell_type": "code",
   "execution_count": 67,
   "metadata": {},
   "outputs": [],
   "source": [
    "y_pred_t=pipe.predict(test)"
   ]
  },
  {
   "cell_type": "code",
   "execution_count": 68,
   "metadata": {},
   "outputs": [],
   "source": [
    "y_pred_t=(y_pred_t).astype(int)"
   ]
  },
  {
   "cell_type": "code",
   "execution_count": 69,
   "metadata": {},
   "outputs": [
    {
     "data": {
      "text/plain": [
       "array([1, 1, 2, ..., 2, 1, 2])"
      ]
     },
     "execution_count": 69,
     "metadata": {},
     "output_type": "execute_result"
    }
   ],
   "source": [
    "y_pred_t"
   ]
  },
  {
   "cell_type": "code",
   "execution_count": 70,
   "metadata": {},
   "outputs": [],
   "source": [
    "with open('out3.txt', 'w') as f:\n",
    "    for i in range(test.shape[0]):\n",
    "        f.write(\"%s\\n\" % (y_pred_t[i]))"
   ]
  },
  {
   "cell_type": "code",
   "execution_count": null,
   "metadata": {},
   "outputs": [],
   "source": []
  }
 ],
 "metadata": {
  "kernelspec": {
   "display_name": "Python 3",
   "language": "python",
   "name": "python3"
  },
  "language_info": {
   "codemirror_mode": {
    "name": "ipython",
    "version": 3
   },
   "file_extension": ".py",
   "mimetype": "text/x-python",
   "name": "python",
   "nbconvert_exporter": "python",
   "pygments_lexer": "ipython3",
   "version": "3.8.5"
  }
 },
 "nbformat": 4,
 "nbformat_minor": 4
}
